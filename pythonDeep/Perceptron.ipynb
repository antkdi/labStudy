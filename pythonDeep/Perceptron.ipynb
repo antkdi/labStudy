{
 "cells": [
  {
   "cell_type": "markdown",
   "metadata": {},
   "source": [
    "### 퍼셉트론\n",
    "##### 다수의 신호를 입력으로 받아 하나의 신호를 출력\n",
    "    - 흐른다 / 안흐른다 \n",
    "    - True / False\n",
    "    - y = x1w1 + x2w2 > 세타(임계값) 1\n",
    "          x1w1 + x2w2 <- 세타(임계값 0\n",
    "          \n",
    "    \n",
    " 1. AND 게이트\n",
    "     둘 다 참이어야 트루\n",
    "     표현할수 있는 가중치 (\n",
    " 2. NAND 게이트\n",
    "     Not AND\n",
    "     하나라도 참이면 트루\n",
    "     \n",
    "\n"
   ]
  },
  {
   "cell_type": "code",
   "execution_count": null,
   "metadata": {
    "collapsed": true
   },
   "outputs": [],
   "source": []
  }
 ],
 "metadata": {
  "kernelspec": {
   "display_name": "Python 3",
   "language": "python",
   "name": "python3"
  },
  "language_info": {
   "codemirror_mode": {
    "name": "ipython",
    "version": 3
   },
   "file_extension": ".py",
   "mimetype": "text/x-python",
   "name": "python",
   "nbconvert_exporter": "python",
   "pygments_lexer": "ipython3",
   "version": "3.6.0"
  }
 },
 "nbformat": 4,
 "nbformat_minor": 2
}
